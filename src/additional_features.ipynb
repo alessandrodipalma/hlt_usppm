{
 "cells": [
  {
   "cell_type": "markdown",
   "metadata": {},
   "source": [
    "# Demo Notebook on U.S. Patent Phrase-to-Phrase Matching "
   ]
  },
  {
   "cell_type": "markdown",
   "metadata": {},
   "source": [
    "## Configuration"
   ]
  },
  {
   "cell_type": "markdown",
   "metadata": {},
   "source": [
    "### Directories"
   ]
  },
  {
   "cell_type": "code",
   "execution_count": 1,
   "metadata": {},
   "outputs": [],
   "source": [
    "INPUT_DIR = \"INPUT_data/\"\n",
    "CPC_DIR = \"CPC_data/\"\n",
    "OUTPUT_DIR = './'"
   ]
  },
  {
   "cell_type": "markdown",
   "metadata": {},
   "source": [
    "### Actual configs "
   ]
  },
  {
   "cell_type": "code",
   "execution_count": 2,
   "metadata": {},
   "outputs": [],
   "source": [
    "class CFG:\n",
    "#    wandb=True\n",
    "#    competition='PPPM'c\n",
    "#   _wandb_kernel='nakama'\n",
    "    debug=False\n",
    "    apex=True\n",
    "    print_freq=100\n",
    "    num_workers=4\n",
    "    model= \"sentence-transformers/bert-base-nli-mean-tokens\" # \"microsoft/deberta-v3-large\"\n",
    "    scheduler='cosine' # ['linear', 'cosine']\n",
    "    batch_scheduler=True\n",
    "    num_cycles=0.5\n",
    "    num_warmup_steps=0\n",
    "    epochs=4\n",
    "    encoder_lr=2e-5\n",
    "    decoder_lr=2e-5\n",
    "    min_lr=1e-6\n",
    "    eps=1e-6\n",
    "    betas=(0.9, 0.999)\n",
    "    batch_size=16\n",
    "    fc_dropout=0.2\n",
    "    target_size=1\n",
    "    max_len=512\n",
    "    weight_decay=0.01\n",
    "    gradient_accumulation_steps=1\n",
    "    max_grad_norm=1000\n",
    "    seed=42\n",
    "    n_fold=4\n",
    "    trn_fold=[0, 1, 2, 3]\n",
    "    train=True\n",
    "    \n",
    "if CFG.debug:\n",
    "    CFG.epochs = 2\n",
    "    CFG.trn_fold = [0]"
   ]
  },
  {
   "cell_type": "markdown",
   "metadata": {},
   "source": [
    "## Libraries"
   ]
  },
  {
   "cell_type": "markdown",
   "metadata": {},
   "source": [
    "General Libraries"
   ]
  },
  {
   "cell_type": "code",
   "execution_count": 3,
   "metadata": {},
   "outputs": [],
   "source": [
    "import os\n",
    "import re\n",
    "import time\n",
    "import math\n",
    "import pickle\n",
    "import random\n",
    "import warnings\n",
    "warnings.filterwarnings(\"ignore\")"
   ]
  },
  {
   "cell_type": "markdown",
   "metadata": {},
   "source": [
    "Scientific Libraries"
   ]
  },
  {
   "cell_type": "code",
   "execution_count": 4,
   "metadata": {},
   "outputs": [],
   "source": [
    "import scipy as sp\n",
    "import numpy as np\n",
    "import pandas as pd\n",
    "pd.set_option('display.max_rows', 500)\n",
    "pd.set_option('display.max_columns', 500)\n",
    "pd.set_option('display.width', 1000)\n",
    "#import torch"
   ]
  },
  {
   "cell_type": "markdown",
   "metadata": {},
   "source": [
    "## Data Loading"
   ]
  },
  {
   "cell_type": "markdown",
   "metadata": {},
   "source": [
    "### Input Dataset"
   ]
  },
  {
   "cell_type": "code",
   "execution_count": 5,
   "metadata": {},
   "outputs": [
    {
     "name": "stdout",
     "output_type": "stream",
     "text": [
      "train.shape: (36473, 5)\n"
     ]
    },
    {
     "data": {
      "text/html": [
       "<div>\n",
       "<style scoped>\n",
       "    .dataframe tbody tr th:only-of-type {\n",
       "        vertical-align: middle;\n",
       "    }\n",
       "\n",
       "    .dataframe tbody tr th {\n",
       "        vertical-align: top;\n",
       "    }\n",
       "\n",
       "    .dataframe thead th {\n",
       "        text-align: right;\n",
       "    }\n",
       "</style>\n",
       "<table border=\"1\" class=\"dataframe\">\n",
       "  <thead>\n",
       "    <tr style=\"text-align: right;\">\n",
       "      <th></th>\n",
       "      <th>id</th>\n",
       "      <th>anchor</th>\n",
       "      <th>target</th>\n",
       "      <th>context</th>\n",
       "      <th>score</th>\n",
       "    </tr>\n",
       "  </thead>\n",
       "  <tbody>\n",
       "    <tr>\n",
       "      <th>0</th>\n",
       "      <td>37d61fd2272659b1</td>\n",
       "      <td>abatement</td>\n",
       "      <td>abatement of pollution</td>\n",
       "      <td>A47</td>\n",
       "      <td>0.50</td>\n",
       "    </tr>\n",
       "    <tr>\n",
       "      <th>1</th>\n",
       "      <td>7b9652b17b68b7a4</td>\n",
       "      <td>abatement</td>\n",
       "      <td>act of abating</td>\n",
       "      <td>A47</td>\n",
       "      <td>0.75</td>\n",
       "    </tr>\n",
       "    <tr>\n",
       "      <th>2</th>\n",
       "      <td>36d72442aefd8232</td>\n",
       "      <td>abatement</td>\n",
       "      <td>active catalyst</td>\n",
       "      <td>A47</td>\n",
       "      <td>0.25</td>\n",
       "    </tr>\n",
       "    <tr>\n",
       "      <th>3</th>\n",
       "      <td>5296b0c19e1ce60e</td>\n",
       "      <td>abatement</td>\n",
       "      <td>eliminating process</td>\n",
       "      <td>A47</td>\n",
       "      <td>0.50</td>\n",
       "    </tr>\n",
       "    <tr>\n",
       "      <th>4</th>\n",
       "      <td>54c1e3b9184cb5b6</td>\n",
       "      <td>abatement</td>\n",
       "      <td>forest region</td>\n",
       "      <td>A47</td>\n",
       "      <td>0.00</td>\n",
       "    </tr>\n",
       "  </tbody>\n",
       "</table>\n",
       "</div>"
      ],
      "text/plain": [
       "                 id     anchor                  target context  score\n",
       "0  37d61fd2272659b1  abatement  abatement of pollution     A47   0.50\n",
       "1  7b9652b17b68b7a4  abatement          act of abating     A47   0.75\n",
       "2  36d72442aefd8232  abatement         active catalyst     A47   0.25\n",
       "3  5296b0c19e1ce60e  abatement     eliminating process     A47   0.50\n",
       "4  54c1e3b9184cb5b6  abatement           forest region     A47   0.00"
      ]
     },
     "metadata": {},
     "output_type": "display_data"
    }
   ],
   "source": [
    "# ====================================================\n",
    "# Data Loading\n",
    "# ====================================================\n",
    "\n",
    "train = pd.read_csv(INPUT_DIR + 'train.csv')\n",
    "print(f\"train.shape: {train.shape}\")\n",
    "display(train.head())"
   ]
  },
  {
   "cell_type": "markdown",
   "metadata": {},
   "source": [
    "### CPC Data"
   ]
  },
  {
   "cell_type": "code",
   "execution_count": 6,
   "metadata": {},
   "outputs": [
    {
     "data": {
      "text/html": [
       "<div>\n",
       "<style scoped>\n",
       "    .dataframe tbody tr th:only-of-type {\n",
       "        vertical-align: middle;\n",
       "    }\n",
       "\n",
       "    .dataframe tbody tr th {\n",
       "        vertical-align: top;\n",
       "    }\n",
       "\n",
       "    .dataframe thead th {\n",
       "        text-align: right;\n",
       "    }\n",
       "</style>\n",
       "<table border=\"1\" class=\"dataframe\">\n",
       "  <thead>\n",
       "    <tr style=\"text-align: right;\">\n",
       "      <th></th>\n",
       "      <th>id</th>\n",
       "      <th>anchor</th>\n",
       "      <th>target</th>\n",
       "      <th>context</th>\n",
       "      <th>score</th>\n",
       "      <th>context_text</th>\n",
       "    </tr>\n",
       "  </thead>\n",
       "  <tbody>\n",
       "    <tr>\n",
       "      <th>0</th>\n",
       "      <td>37d61fd2272659b1</td>\n",
       "      <td>abatement</td>\n",
       "      <td>abatement of pollution</td>\n",
       "      <td>A47</td>\n",
       "      <td>0.50</td>\n",
       "      <td>human necessities. furniture; domestic article...</td>\n",
       "    </tr>\n",
       "    <tr>\n",
       "      <th>1</th>\n",
       "      <td>7b9652b17b68b7a4</td>\n",
       "      <td>abatement</td>\n",
       "      <td>act of abating</td>\n",
       "      <td>A47</td>\n",
       "      <td>0.75</td>\n",
       "      <td>human necessities. furniture; domestic article...</td>\n",
       "    </tr>\n",
       "    <tr>\n",
       "      <th>2</th>\n",
       "      <td>36d72442aefd8232</td>\n",
       "      <td>abatement</td>\n",
       "      <td>active catalyst</td>\n",
       "      <td>A47</td>\n",
       "      <td>0.25</td>\n",
       "      <td>human necessities. furniture; domestic article...</td>\n",
       "    </tr>\n",
       "    <tr>\n",
       "      <th>3</th>\n",
       "      <td>5296b0c19e1ce60e</td>\n",
       "      <td>abatement</td>\n",
       "      <td>eliminating process</td>\n",
       "      <td>A47</td>\n",
       "      <td>0.50</td>\n",
       "      <td>human necessities. furniture; domestic article...</td>\n",
       "    </tr>\n",
       "    <tr>\n",
       "      <th>4</th>\n",
       "      <td>54c1e3b9184cb5b6</td>\n",
       "      <td>abatement</td>\n",
       "      <td>forest region</td>\n",
       "      <td>A47</td>\n",
       "      <td>0.00</td>\n",
       "      <td>human necessities. furniture; domestic article...</td>\n",
       "    </tr>\n",
       "  </tbody>\n",
       "</table>\n",
       "</div>"
      ],
      "text/plain": [
       "                 id     anchor                  target context  score                                       context_text\n",
       "0  37d61fd2272659b1  abatement  abatement of pollution     A47   0.50  human necessities. furniture; domestic article...\n",
       "1  7b9652b17b68b7a4  abatement          act of abating     A47   0.75  human necessities. furniture; domestic article...\n",
       "2  36d72442aefd8232  abatement         active catalyst     A47   0.25  human necessities. furniture; domestic article...\n",
       "3  5296b0c19e1ce60e  abatement     eliminating process     A47   0.50  human necessities. furniture; domestic article...\n",
       "4  54c1e3b9184cb5b6  abatement           forest region     A47   0.00  human necessities. furniture; domestic article..."
      ]
     },
     "metadata": {},
     "output_type": "display_data"
    }
   ],
   "source": [
    "# ====================================================\n",
    "# CPC (Cooperative Patent Classification) Data\n",
    "# ====================================================\n",
    "\n",
    "def get_cpc_texts(file_path = None, write = False):\n",
    "    if file_path and write == False :\n",
    "        return pd.read_csv(file_path, header = None, index_col = 0, squeeze = True).to_dict()\n",
    "\n",
    "    else : \n",
    "        contexts = []\n",
    "        pattern = '[A-Z]\\d+'\n",
    "        for file_name in os.listdir(CPC_DIR + 'CPCSchemeXML202208'):\n",
    "            result = re.findall(pattern, file_name)\n",
    "            if result:\n",
    "                contexts.append(result)\n",
    "        contexts = sorted(set(sum(contexts, [])))\n",
    "        results = {}\n",
    "        for cpc in ['A', 'B', 'C', 'D', 'E', 'F', 'G', 'H', 'Y']:\n",
    "            with open(f'CPC_data/CPCTitleList202208/cpc-section-{cpc}_20220801.txt') as f:\n",
    "                s = f.read()\n",
    "            pattern = f'{cpc}\\t\\t.+'\n",
    "            result = re.findall(pattern, s)\n",
    "            cpc_result = result[0].lstrip(pattern)\n",
    "            for context in [c for c in contexts if c[0] == cpc]:\n",
    "                pattern = f'{context}\\t\\t.+'\n",
    "                result = re.findall(pattern, s)\n",
    "                results[context] = cpc_result + \". \" + result[0].lstrip(pattern)\n",
    "\n",
    "        if write :\n",
    "            temp = pd.DataFrame.from_dict(cpc_texts, orient='index')\n",
    "            temp.to_csv(file_path, index = True, header = False)\n",
    "\n",
    "        return results\n",
    "\n",
    "cpc_texts = get_cpc_texts()\n",
    "\n",
    "train['context_text'] = train['context'].map(cpc_texts).apply(lambda x:x.lower())\n",
    "display(train.head())"
   ]
  },
  {
   "cell_type": "markdown",
   "metadata": {},
   "source": [
    "### Additional Features: Text"
   ]
  },
  {
   "cell_type": "code",
   "execution_count": 7,
   "metadata": {},
   "outputs": [],
   "source": [
    "train['text'] = train['anchor'] + '[SEP]' + train['target'] + '[SEP]'  + train['context_text']"
   ]
  },
  {
   "cell_type": "markdown",
   "metadata": {},
   "source": [
    "### Additional Features: Unique Targets for same Anchor"
   ]
  },
  {
   "cell_type": "code",
   "execution_count": 8,
   "metadata": {},
   "outputs": [],
   "source": [
    "# targets_from_same_anchor -> List of unique targets for same anchor\n",
    "extra = train.groupby('anchor').target.agg(list).rename('targets_for_same_anchor') \n",
    "train = train.join(extra, on='anchor')\n",
    "\n",
    "# diff_targets_same_anchor -> List of unique targets for same anchor (excluding the current row's target)\n",
    "train['diff_targets_same_anchor'] = train.apply(lambda x:[i for i in x['targets_for_same_anchor'] if i != x['target']], axis=1) \n",
    "\n",
    "# Remove duplicates from diff_targets_from_same_anchor\n",
    "train['diff_targets_same_anchor'] = train['diff_targets_from_same_anchor'].apply(lambda x:', '.join(sorted(list(set(x)), key=x.index))) \n",
    "\n",
    "# Drop list of unique targets for same anchor\n",
    "train = train.drop([\"targets_from_same_anchor\"], inplace=True)\n",
    "train.drop(columns=\"targets_from_same_anchor\", inplace=True)"
   ]
  },
  {
   "cell_type": "markdown",
   "metadata": {},
   "source": [
    "### Additional Features: List of targets for the same anchor and context"
   ]
  },
  {
   "cell_type": "code",
   "execution_count": 9,
   "metadata": {},
   "outputs": [],
   "source": [
    "# same_anchor_context -> List of targets for the same anchor and context\n",
    "train = train.join(train.groupby(['anchor', 'context']).target.agg(list).rename('same_anchor_context'), on=['anchor', 'context'])\n",
    "train['same_anchor_context'] = train.apply(lambda x: ', '.join([i for i in x['same_anchor_context'] if i != x['target']]), axis=1)"
   ]
  },
  {
   "cell_type": "markdown",
   "metadata": {},
   "source": [
    "### Additional Features: List of unique anchors for the same context"
   ]
  },
  {
   "cell_type": "code",
   "execution_count": 10,
   "metadata": {},
   "outputs": [],
   "source": [
    "# anchor_list -> List of unique anchors for the same context\n",
    "train = train.join(train.groupby('context').anchor.agg('unique').rename('anchor_list'), on='context')\n",
    "train['anchor_list'] = train.apply(lambda x:', '.join([i for i in x['anchor_list'] if i != x['anchor']]), axis=1)"
   ]
  },
  {
   "cell_type": "code",
   "execution_count": 17,
   "metadata": {},
   "outputs": [
    {
     "data": {
      "text/html": [
       "<div>\n",
       "<style scoped>\n",
       "    .dataframe tbody tr th:only-of-type {\n",
       "        vertical-align: middle;\n",
       "    }\n",
       "\n",
       "    .dataframe tbody tr th {\n",
       "        vertical-align: top;\n",
       "    }\n",
       "\n",
       "    .dataframe thead th {\n",
       "        text-align: right;\n",
       "    }\n",
       "</style>\n",
       "<table border=\"1\" class=\"dataframe\">\n",
       "  <thead>\n",
       "    <tr style=\"text-align: right;\">\n",
       "      <th></th>\n",
       "      <th>id</th>\n",
       "      <th>anchor</th>\n",
       "      <th>target</th>\n",
       "      <th>context</th>\n",
       "      <th>score</th>\n",
       "      <th>context_text</th>\n",
       "      <th>text</th>\n",
       "      <th>diff_targets_from_same_anchor</th>\n",
       "      <th>same_anchor_context</th>\n",
       "      <th>anchor_list</th>\n",
       "    </tr>\n",
       "  </thead>\n",
       "  <tbody>\n",
       "    <tr>\n",
       "      <th>0</th>\n",
       "      <td>37d61fd2272659b1</td>\n",
       "      <td>abatement</td>\n",
       "      <td>abatement of pollution</td>\n",
       "      <td>A47</td>\n",
       "      <td>0.50</td>\n",
       "      <td>human necessities. furniture; domestic article...</td>\n",
       "      <td>abatement[SEP]abatement of pollution[SEP]human...</td>\n",
       "      <td>act of abating, active catalyst, eliminating p...</td>\n",
       "      <td>act of abating, active catalyst, eliminating p...</td>\n",
       "      <td>adhesive mounting, automatic coffee, carpet ti...</td>\n",
       "    </tr>\n",
       "    <tr>\n",
       "      <th>1</th>\n",
       "      <td>7b9652b17b68b7a4</td>\n",
       "      <td>abatement</td>\n",
       "      <td>act of abating</td>\n",
       "      <td>A47</td>\n",
       "      <td>0.75</td>\n",
       "      <td>human necessities. furniture; domestic article...</td>\n",
       "      <td>abatement[SEP]act of abating[SEP]human necessi...</td>\n",
       "      <td>abatement of pollution, active catalyst, elimi...</td>\n",
       "      <td>abatement of pollution, active catalyst, elimi...</td>\n",
       "      <td>adhesive mounting, automatic coffee, carpet ti...</td>\n",
       "    </tr>\n",
       "    <tr>\n",
       "      <th>2</th>\n",
       "      <td>36d72442aefd8232</td>\n",
       "      <td>abatement</td>\n",
       "      <td>active catalyst</td>\n",
       "      <td>A47</td>\n",
       "      <td>0.25</td>\n",
       "      <td>human necessities. furniture; domestic article...</td>\n",
       "      <td>abatement[SEP]active catalyst[SEP]human necess...</td>\n",
       "      <td>abatement of pollution, act of abating, elimin...</td>\n",
       "      <td>abatement of pollution, act of abating, elimin...</td>\n",
       "      <td>adhesive mounting, automatic coffee, carpet ti...</td>\n",
       "    </tr>\n",
       "    <tr>\n",
       "      <th>3</th>\n",
       "      <td>5296b0c19e1ce60e</td>\n",
       "      <td>abatement</td>\n",
       "      <td>eliminating process</td>\n",
       "      <td>A47</td>\n",
       "      <td>0.50</td>\n",
       "      <td>human necessities. furniture; domestic article...</td>\n",
       "      <td>abatement[SEP]eliminating process[SEP]human ne...</td>\n",
       "      <td>abatement of pollution, act of abating, active...</td>\n",
       "      <td>abatement of pollution, act of abating, active...</td>\n",
       "      <td>adhesive mounting, automatic coffee, carpet ti...</td>\n",
       "    </tr>\n",
       "    <tr>\n",
       "      <th>4</th>\n",
       "      <td>54c1e3b9184cb5b6</td>\n",
       "      <td>abatement</td>\n",
       "      <td>forest region</td>\n",
       "      <td>A47</td>\n",
       "      <td>0.00</td>\n",
       "      <td>human necessities. furniture; domestic article...</td>\n",
       "      <td>abatement[SEP]forest region[SEP]human necessit...</td>\n",
       "      <td>abatement of pollution, act of abating, active...</td>\n",
       "      <td>abatement of pollution, act of abating, active...</td>\n",
       "      <td>adhesive mounting, automatic coffee, carpet ti...</td>\n",
       "    </tr>\n",
       "  </tbody>\n",
       "</table>\n",
       "</div>"
      ],
      "text/plain": [
       "                 id     anchor                  target context  score                                       context_text                                               text                      diff_targets_from_same_anchor                                same_anchor_context                                        anchor_list\n",
       "0  37d61fd2272659b1  abatement  abatement of pollution     A47   0.50  human necessities. furniture; domestic article...  abatement[SEP]abatement of pollution[SEP]human...  act of abating, active catalyst, eliminating p...  act of abating, active catalyst, eliminating p...  adhesive mounting, automatic coffee, carpet ti...\n",
       "1  7b9652b17b68b7a4  abatement          act of abating     A47   0.75  human necessities. furniture; domestic article...  abatement[SEP]act of abating[SEP]human necessi...  abatement of pollution, active catalyst, elimi...  abatement of pollution, active catalyst, elimi...  adhesive mounting, automatic coffee, carpet ti...\n",
       "2  36d72442aefd8232  abatement         active catalyst     A47   0.25  human necessities. furniture; domestic article...  abatement[SEP]active catalyst[SEP]human necess...  abatement of pollution, act of abating, elimin...  abatement of pollution, act of abating, elimin...  adhesive mounting, automatic coffee, carpet ti...\n",
       "3  5296b0c19e1ce60e  abatement     eliminating process     A47   0.50  human necessities. furniture; domestic article...  abatement[SEP]eliminating process[SEP]human ne...  abatement of pollution, act of abating, active...  abatement of pollution, act of abating, active...  adhesive mounting, automatic coffee, carpet ti...\n",
       "4  54c1e3b9184cb5b6  abatement           forest region     A47   0.00  human necessities. furniture; domestic article...  abatement[SEP]forest region[SEP]human necessit...  abatement of pollution, act of abating, active...  abatement of pollution, act of abating, active...  adhesive mounting, automatic coffee, carpet ti..."
      ]
     },
     "execution_count": 17,
     "metadata": {},
     "output_type": "execute_result"
    }
   ],
   "source": [
    "train.head()"
   ]
  },
  {
   "cell_type": "code",
   "execution_count": null,
   "metadata": {},
   "outputs": [],
   "source": []
  }
 ],
 "metadata": {
  "kernelspec": {
   "display_name": "Python 3 (ipykernel)",
   "language": "python",
   "name": "python3"
  },
  "language_info": {
   "codemirror_mode": {
    "name": "ipython",
    "version": 3
   },
   "file_extension": ".py",
   "mimetype": "text/x-python",
   "name": "python",
   "nbconvert_exporter": "python",
   "pygments_lexer": "ipython3",
   "version": "3.9.12"
  },
  "vscode": {
   "interpreter": {
    "hash": "db056987835d577273d35650f4d17a23fd2d7c9a4b304b7ee8991ea60b8dffb5"
   }
  }
 },
 "nbformat": 4,
 "nbformat_minor": 4
}
