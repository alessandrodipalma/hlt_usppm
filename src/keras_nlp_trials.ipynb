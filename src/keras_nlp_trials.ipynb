{
 "cells": [
  {
   "cell_type": "code",
   "execution_count": null,
   "metadata": {
    "pycharm": {
     "is_executing": true
    }
   },
   "outputs": [],
   "source": [
    "import keras_nlp\n",
    "import transformers\n",
    "import pandas as pd\n",
    "import tensorflow as tf\n",
    "from tensorflow.keras import layers\n",
    "import numpy as np\n",
    " "
   ]
  },
  {
   "cell_type": "code",
   "execution_count": null,
   "metadata": {
    "pycharm": {
     "is_executing": true
    }
   },
   "outputs": [],
   "source": [
    "print(\"Num GPUs Available: \", len(tf.config.list_physical_devices('GPU')))\n",
    "tf.config.list_physical_devices('GPU')"
   ]
  },
  {
   "cell_type": "markdown",
   "metadata": {},
   "source": [
    "# Data preparation"
   ]
  },
  {
   "cell_type": "code",
   "execution_count": null,
   "metadata": {
    "pycharm": {
     "is_executing": true
    }
   },
   "outputs": [],
   "source": [
    "train_df = pd.read_csv(\"../dataset/train.csv\")\n",
    "test_df = pd.read_csv(\"../dataset/test.csv\")\n",
    "titles = pd.read_csv(\"../dataset/titles.csv\")"
   ]
  },
  {
   "cell_type": "code",
   "execution_count": null,
   "metadata": {
    "pycharm": {
     "is_executing": true
    }
   },
   "outputs": [],
   "source": [
    "titles = titles.loc[titles['code'].str.len() == 3]"
   ]
  },
  {
   "cell_type": "code",
   "execution_count": null,
   "metadata": {
    "pycharm": {
     "is_executing": true
    }
   },
   "outputs": [],
   "source": [
    "train_df['context_text'] = train_df.apply(lambda r: titles[(titles['code'] == r['context'])]['title'].iloc[0], axis=1)"
   ]
  },
  {
   "cell_type": "code",
   "execution_count": null,
   "metadata": {
    "pycharm": {
     "is_executing": true
    }
   },
   "outputs": [],
   "source": [
    "train_df['text'] = train_df['anchor']+\";\"+train_df['target']+\";\"+train_df['context_text']"
   ]
  },
  {
   "cell_type": "code",
   "execution_count": null,
   "metadata": {
    "pycharm": {
     "is_executing": true
    }
   },
   "outputs": [],
   "source": [
    "train_df"
   ]
  },
  {
   "cell_type": "code",
   "execution_count": null,
   "metadata": {
    "pycharm": {
     "is_executing": true
    }
   },
   "outputs": [],
   "source": [
    "train_df.score.value_counts()"
   ]
  },
  {
   "cell_type": "code",
   "execution_count": null,
   "metadata": {
    "pycharm": {
     "is_executing": true
    }
   },
   "outputs": [],
   "source": [
    "max_length= 16"
   ]
  },
  {
   "cell_type": "markdown",
   "metadata": {},
   "source": [
    "# Data generator"
   ]
  },
  {
   "cell_type": "code",
   "execution_count": null,
   "metadata": {
    "pycharm": {
     "is_executing": true
    }
   },
   "outputs": [],
   "source": [
    "class DataGenerator(tf.keras.utils.Sequence):\n",
    "    \"\"\" Generates batches of data.\n",
    "    Args:\n",
    "        phrases: Array of anchor, target and contex input phrases.\n",
    "        scores: array of similarity scores.\n",
    "        batch_size: Integer batch size.\n",
    "        shuffle: boolean, whether to shuffle the data.\n",
    "        include_targets: boolean, whether to include the labels.\n",
    "    Returns:\n",
    "        Tuples '([input_ids, attention_mask, token_type_ids], labels)'\n",
    "        or just '[input_ids, attention_mask, token_type_ids]'\n",
    "        if 'include_target=False'\"\"\"\n",
    "    \n",
    "    def __init__(self, phrases, scores, batch_size=10, shuffle=True, include_targets=True):\n",
    "        self.phrases = phrases\n",
    "        self.scores = scores\n",
    "        self.batch_size = batch_size\n",
    "        self.shuffle = shuffle\n",
    "        self.include_targets = include_targets\n",
    "        \n",
    "        self.tokenizer = transformers.BertTokenizer.from_pretrained(\"bert-base-uncased\", do_lower_case=True)\n",
    "        self.indexes = np.arange(len(self.phrases))\n",
    "        self.on_epoch_end()\n",
    "    \n",
    "    def __len__(self):\n",
    "        # Denotes the number of batches per epoch.\n",
    "        return len(self.phrases) // self.batch_size\n",
    "    \n",
    "    def __getitem__(self, idx):\n",
    "        # Retrieves the batch of index.\n",
    "        indexes = self.indexes[idx * self.batch_size : (idx+1) * self.batch_size]\n",
    "        phrases = self.phrases[indexes]\n",
    "        \n",
    "        # With BERT tokenizer's batch_encode_plus batch of both the phrases and context are\n",
    "        # encoded together and separated by [SEP] token.\n",
    "        encoded = self.tokenizer.batch_encode_plus(\n",
    "            phrases.tolist(),\n",
    "            add_special_tokens=True,\n",
    "            max_length=max_length,\n",
    "            return_attention_mask=True,\n",
    "            return_token_type_ids=True,\n",
    "            padding='max_length',\n",
    "            return_tensors=\"tf\",\n",
    "            truncation=True\n",
    "            )\n",
    "        \n",
    "        # convert batch of encoded features to numpy array.\n",
    "        input_ids = np.array(encoded[\"input_ids\"], dtype=\"int32\")\n",
    "        attention_masks = np.array(encoded[\"attention_mask\"], dtype=\"int32\")\n",
    "        token_type_ids = np.array(encoded[\"token_type_ids\"], dtype=\"int32\")\n",
    "        \n",
    "        # set to true if data generator is used for training/validation.\n",
    "        if self.include_targets:\n",
    "            labels = np.array(self.scores[indexes], dtype=\"int32\")\n",
    "            return [input_ids, attention_masks, token_type_ids], labels\n",
    "        else:\n",
    "            return [input_ids, attention_masks, token_type_ids]\n",
    "        \n",
    "    def on_epoch_end(self):\n",
    "        # Shuffle indexes after each epoch if shuffle is set to True.\n",
    "        if self.shuffle:\n",
    "            np.random.RandomState(42).shuffle(self.indexes)\n",
    "            "
   ]
  },
  {
   "cell_type": "markdown",
   "metadata": {},
   "source": [
    "# Build the model"
   ]
  },
  {
   "cell_type": "code",
   "execution_count": null,
   "metadata": {
    "pycharm": {
     "is_executing": true
    }
   },
   "outputs": [],
   "source": [
    "\n",
    "# Encoded token ids from BERT tokenizer.\n",
    "input_ids = tf.keras.layers.Input(\n",
    "    shape=(max_length,),dtype=tf.int32, name=\"input_ids\"\n",
    ")\n",
    "\n",
    "# Attention masks indicates to the model which tokens should be attended to.\n",
    "attention_masks = tf.keras.layers.Input(\n",
    "    shape=(max_length,), dtype=tf.int32, name=\"attention_masks\"\n",
    ")\n",
    "\n",
    "# Token type ids are binary masks identifying different sequences in the model\n",
    "token_type_ids = tf.keras.layers.Input(\n",
    "    shape=(max_length,), dtype=tf.int32, name=\"token_type_ids\"\n",
    ")\n",
    "\n",
    "# Loading pretrained BERT model.\n",
    "bert_model = transformers.TFBertModel.from_pretrained(\"bert-base-uncased\")\n",
    "# Freeze the BERT model to reuse the pretrained features without modifying them\n",
    "bert_model.trainable = False\n",
    "\n",
    "bert_output = bert_model.bert(\n",
    "input_ids, attention_mask=attention_masks, token_type_ids=token_type_ids)\n",
    "sequence_output = bert_output.last_hidden_state\n",
    "pooled_output = bert_output.pooler_output\n",
    "\n",
    "# Add trainable layers on top of frozen layers to adapt the pretrained features on the data.\n",
    "bi_lstm = layers.Bidirectional(layers.LSTM(1, return_sequences=True))(sequence_output)\n",
    "avg_pool = layers.GlobalAveragePooling1D()(sequence_output)\n",
    "max_pool = layers.GlobalMaxPooling1D()(sequence_output)\n",
    "add = layers.add([avg_pool, max_pool])\n",
    "dropout = layers.Dropout(0.3)(add)\n",
    "\n",
    "# try to treat the scores as labels\n",
    "output = layers.Dense(1, activation=\"sigmoid\")(dropout)\n",
    "model = tf.keras.models.Model(\n",
    "    inputs = [input_ids, attention_masks, token_type_ids], outputs=output\n",
    ")\n",
    "\n",
    "model.compile(\n",
    "    optimizer=tf.keras.optimizers.Adam(),\n",
    "    loss=\"mse\",\n",
    "    metrics=[\"mse\"],\n",
    ")\n",
    "\n",
    "model.summary()   \n",
    "\n",
    "    "
   ]
  },
  {
   "cell_type": "code",
   "execution_count": null,
   "metadata": {
    "pycharm": {
     "is_executing": true
    }
   },
   "outputs": [],
   "source": [
    "df_randomized = train_df.sample(frac=1, random_state=1)\n",
    "training_test_index = round(len(df_randomized)*0.8)\n",
    "train = df_randomized[:training_test_index].reset_index(drop=True)\n",
    "valid = df_randomized[training_test_index:].reset_index(drop=True)\n",
    "\n",
    "batch_size = 32\n",
    "train_data = DataGenerator(\n",
    "    train[[\"target\",\"text\"]].values.astype(\"str\"),\n",
    "    train[\"score\"].values,\n",
    "    batch_size=batch_size,\n",
    "    shuffle=True,\n",
    ")\n",
    "valid_data = DataGenerator(\n",
    "    valid[[\"target\",\"text\"]].values.astype(\"str\"),\n",
    "        train[\"score\"].values,\n",
    "    batch_size=batch_size,\n",
    "    shuffle=True, \n",
    ")"
   ]
  },
  {
   "cell_type": "code",
   "execution_count": null,
   "metadata": {
    "pycharm": {
     "is_executing": true
    }
   },
   "outputs": [],
   "source": [
    "transformers.logging.set_verbosity_error()"
   ]
  },
  {
   "cell_type": "code",
   "execution_count": null,
   "metadata": {
    "pycharm": {
     "is_executing": true
    }
   },
   "outputs": [],
   "source": [
    "history=model.fit(train_data,validation_data=valid_data, epochs=10, use_multiprocessing=True, workers=-1)"
   ]
  },
  {
   "cell_type": "code",
   "execution_count": null,
   "metadata": {
    "pycharm": {
     "is_executing": true
    }
   },
   "outputs": [],
   "source": []
  }
 ],
 "metadata": {
  "kernelspec": {
   "display_name": "PyCharm (hlt_usppm)",
   "language": "python",
   "name": "pycharm-a8434faf"
  },
  "language_info": {
   "codemirror_mode": {
    "name": "ipython",
    "version": 3
   },
   "file_extension": ".py",
   "mimetype": "text/x-python",
   "name": "python",
   "nbconvert_exporter": "python",
   "pygments_lexer": "ipython3",
   "version": "3.8.9"
  }
 },
 "nbformat": 4,
 "nbformat_minor": 1
}
